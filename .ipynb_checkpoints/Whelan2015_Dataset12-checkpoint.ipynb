{
 "cells": [
  {
   "cell_type": "code",
   "execution_count": 1,
   "metadata": {
    "collapsed": true
   },
   "outputs": [],
   "source": [
    "from reprophylo import *"
   ]
  },
  {
   "cell_type": "code",
   "execution_count": 27,
   "metadata": {
    "collapsed": true
   },
   "outputs": [],
   "source": [
    "if not os.path.exists('../data/Whelan2015/Final_Datasets/12/fastaalns'):\n",
    "    os.mkdir('../data/Whelan2015/Final_Datasets/12/fastaalns')\n",
    "    \n",
    "output_dir = '../data/Whelan2015/Final_Datasets/12/fastaalns'"
   ]
  },
  {
   "cell_type": "code",
   "execution_count": 32,
   "metadata": {
    "collapsed": true
   },
   "outputs": [],
   "source": [
    "def parse_whelan15_partitions(raxml_partition_file):\n",
    "    with open(raxml_partition_file) as partfile:\n",
    "        lines = partfile.readlines()\n",
    "        parts = {}\n",
    "        for line in lines:\n",
    "            locus, start, end = line.rstrip()[:-1].replace(' = ',' ').replace('-',' ').split()\n",
    "            start, end = int(start)-1, int(end)\n",
    "            locus = locus.split('.')[0]\n",
    "            parts[locus] = [start, end]\n",
    "        return parts\n",
    "    \n",
    "\n",
    "def pj_from_phylip(phylip_filename, charsets ,output_dir, char_type,\n",
    "                            feature_type, project=False, pickle=False, git=False):\n",
    "    \n",
    "    \n",
    "    from reprophylo import Locus\n",
    "    from Bio import AlignIO\n",
    "    \n",
    "    alignment =  AlignIO.read(phylip_filename, 'phylip-relaxed')\n",
    "    filenames = []\n",
    "    loci_list = []\n",
    "    for locus_name in charsets:\n",
    "        s = charsets[locus_name][0]\n",
    "        e = charsets[locus_name][1]\n",
    "        outname = \"%s/%s.fasta\"%(output_dir,locus_name)\n",
    "        AlignIO.write(alignment[:, s:e], outname, 'fasta')\n",
    "        filenames.append(outname)\n",
    "        loci_list.append(Locus(char_type, feature_type, locus_name, [locus_name]))\n",
    "    \n",
    "    if project:\n",
    "        from reprophylo import Project\n",
    "        pj = Project(loci_list, pickle=pickle, git=git)\n",
    "        i=1\n",
    "        for f in filenames:\n",
    "            locus_name = f.split('/')[-1].split('.')[0]\n",
    "            print '%i/%i reading %s'%(i,len(filenames), locus_name)\n",
    "            i += 1\n",
    "            pj.read_alignment(f, char_type, feature_type, locus_name)\n",
    "        return pj\n",
    "            \n",
    "    else:  \n",
    "        return filenames, loci_list"
   ]
  },
  {
   "cell_type": "code",
   "execution_count": 33,
   "metadata": {
    "collapsed": true
   },
   "outputs": [],
   "source": [
    "partition_file = '../data/Whelan2015/Final_Datasets/12/Dataset12_GeneList_UncertainPruned.txt'\n",
    "phylip_file = '../data/Whelan2015/Final_Datasets/12/Dataset12_UncertainPruned.phy'"
   ]
  },
  {
   "cell_type": "code",
   "execution_count": 34,
   "metadata": {
    "collapsed": false
   },
   "outputs": [
    {
     "name": "stdout",
     "output_type": "stream",
     "text": [
      "1/209 reading Gene_0070\n"
     ]
    },
    {
     "name": "stderr",
     "output_type": "stream",
     "text": [
      "/home/amir/Dropbox/python_modules/reprophylo.py:1152: UserWarning: Version control off\n",
      "  warnings.warn('Version control off')\n"
     ]
    },
    {
     "ename": "RuntimeError",
     "evalue": "Locus Gene_0070 does not exist",
     "output_type": "error",
     "traceback": [
      "\u001b[1;31m---------------------------------------------------------------------------\u001b[0m",
      "\u001b[1;31mRuntimeError\u001b[0m                              Traceback (most recent call last)",
      "\u001b[1;32m<ipython-input-34-f7957ce36cfc>\u001b[0m in \u001b[0;36m<module>\u001b[1;34m()\u001b[0m\n\u001b[0;32m      6\u001b[0m                     \u001b[1;34m'PROT'\u001b[0m\u001b[1;33m,\u001b[0m\u001b[1;33m\u001b[0m\u001b[0m\n\u001b[0;32m      7\u001b[0m                     \u001b[0mproject\u001b[0m\u001b[1;33m=\u001b[0m\u001b[0mTrue\u001b[0m\u001b[1;33m,\u001b[0m\u001b[1;33m\u001b[0m\u001b[0m\n\u001b[1;32m----> 8\u001b[1;33m                     pickle=False)\n\u001b[0m",
      "\u001b[1;32m<ipython-input-32-7d115a7a8a35>\u001b[0m in \u001b[0;36mpj_from_phylip\u001b[1;34m(phylip_filename, charsets, output_dir, char_type, feature_type, project, pickle, git)\u001b[0m\n\u001b[0;32m     36\u001b[0m             \u001b[1;32mprint\u001b[0m \u001b[1;34m'%i/%i reading %s'\u001b[0m\u001b[1;33m%\u001b[0m\u001b[1;33m(\u001b[0m\u001b[0mi\u001b[0m\u001b[1;33m,\u001b[0m\u001b[0mlen\u001b[0m\u001b[1;33m(\u001b[0m\u001b[0mfilenames\u001b[0m\u001b[1;33m)\u001b[0m\u001b[1;33m,\u001b[0m \u001b[0mlocus_name\u001b[0m\u001b[1;33m)\u001b[0m\u001b[1;33m\u001b[0m\u001b[0m\n\u001b[0;32m     37\u001b[0m             \u001b[0mi\u001b[0m \u001b[1;33m+=\u001b[0m \u001b[1;36m1\u001b[0m\u001b[1;33m\u001b[0m\u001b[0m\n\u001b[1;32m---> 38\u001b[1;33m             \u001b[0mpj\u001b[0m\u001b[1;33m.\u001b[0m\u001b[0mread_alignment\u001b[0m\u001b[1;33m(\u001b[0m\u001b[0mf\u001b[0m\u001b[1;33m,\u001b[0m \u001b[0mchar_type\u001b[0m\u001b[1;33m,\u001b[0m \u001b[0mfeature_type\u001b[0m\u001b[1;33m,\u001b[0m \u001b[0mlocus_name\u001b[0m\u001b[1;33m)\u001b[0m\u001b[1;33m\u001b[0m\u001b[0m\n\u001b[0m\u001b[0;32m     39\u001b[0m         \u001b[1;32mreturn\u001b[0m \u001b[0mpj\u001b[0m\u001b[1;33m\u001b[0m\u001b[0m\n\u001b[0;32m     40\u001b[0m \u001b[1;33m\u001b[0m\u001b[0m\n",
      "\u001b[1;32m/home/amir/Dropbox/python_modules/reprophylo.pyc\u001b[0m in \u001b[0;36mread_alignment\u001b[1;34m(self, filename, char_type, feature_type, locus_name, format, aln_method_name, exclude)\u001b[0m\n\u001b[0;32m   1153\u001b[0m \u001b[1;33m\u001b[0m\u001b[0m\n\u001b[0;32m   1154\u001b[0m         \u001b[1;32mif\u001b[0m \u001b[1;32mnot\u001b[0m \u001b[0many\u001b[0m\u001b[1;33m(\u001b[0m\u001b[1;33m[\u001b[0m\u001b[0mlocus\u001b[0m\u001b[1;33m.\u001b[0m\u001b[0mname\u001b[0m \u001b[1;33m==\u001b[0m \u001b[0mlocus_name\u001b[0m \u001b[1;32mfor\u001b[0m \u001b[0mlocus\u001b[0m \u001b[1;32min\u001b[0m \u001b[0mself\u001b[0m\u001b[1;33m.\u001b[0m\u001b[0mloci\u001b[0m\u001b[1;33m]\u001b[0m\u001b[1;33m)\u001b[0m\u001b[1;33m:\u001b[0m\u001b[1;33m\u001b[0m\u001b[0m\n\u001b[1;32m-> 1155\u001b[1;33m             \u001b[1;32mraise\u001b[0m \u001b[0mRuntimeError\u001b[0m\u001b[1;33m(\u001b[0m\u001b[1;34m\"Locus %s does not exist\"\u001b[0m\u001b[1;33m%\u001b[0m\u001b[0mlocus_name\u001b[0m\u001b[1;33m)\u001b[0m\u001b[1;33m\u001b[0m\u001b[0m\n\u001b[0m\u001b[0;32m   1156\u001b[0m         \u001b[1;32melif\u001b[0m \u001b[1;32mnot\u001b[0m \u001b[1;33m[\u001b[0m\u001b[0mlocus\u001b[0m \u001b[1;32mfor\u001b[0m \u001b[0mlocus\u001b[0m \u001b[1;32min\u001b[0m \u001b[0mself\u001b[0m\u001b[1;33m.\u001b[0m\u001b[0mloci\u001b[0m \u001b[1;32mif\u001b[0m \u001b[0mlocus\u001b[0m\u001b[1;33m.\u001b[0m\u001b[0mname\u001b[0m \u001b[1;33m==\u001b[0m \u001b[0mlocus_name\u001b[0m\u001b[1;33m]\u001b[0m\u001b[1;33m[\u001b[0m\u001b[1;36m0\u001b[0m\u001b[1;33m]\u001b[0m\u001b[1;33m.\u001b[0m\u001b[0mchar_type\u001b[0m \u001b[1;33m==\u001b[0m \u001b[0mchar_type\u001b[0m\u001b[1;33m:\u001b[0m\u001b[1;33m\u001b[0m\u001b[0m\n\u001b[0;32m   1157\u001b[0m             \u001b[1;32mraise\u001b[0m \u001b[0mRuntimeError\u001b[0m\u001b[1;33m(\u001b[0m\u001b[1;34m\"%s is not a %s locus\"\u001b[0m\u001b[1;33m%\u001b[0m\u001b[1;33m(\u001b[0m\u001b[0mlocus_name\u001b[0m\u001b[1;33m,\u001b[0m \u001b[0mchar_type\u001b[0m\u001b[1;33m)\u001b[0m\u001b[1;33m)\u001b[0m\u001b[1;33m\u001b[0m\u001b[0m\n",
      "\u001b[1;31mRuntimeError\u001b[0m: Locus Gene_0070 does not exist"
     ]
    }
   ],
   "source": [
    "charsets = parse_whelan15_partitions(partition_file)\n",
    "pj = pj_from_phylip(phylip_file, \n",
    "                    charsets,\n",
    "                    output_dir,\n",
    "                    'prot',\n",
    "                    'PROT',\n",
    "                    project=True,\n",
    "                    pickle=False)"
   ]
  },
  {
   "cell_type": "code",
   "execution_count": null,
   "metadata": {
    "collapsed": true
   },
   "outputs": [],
   "source": []
  }
 ],
 "metadata": {
  "kernelspec": {
   "display_name": "Python 2",
   "language": "python",
   "name": "python2"
  },
  "language_info": {
   "codemirror_mode": {
    "name": "ipython",
    "version": 2
   },
   "file_extension": ".py",
   "mimetype": "text/x-python",
   "name": "python",
   "nbconvert_exporter": "python",
   "pygments_lexer": "ipython2",
   "version": "2.7.6"
  }
 },
 "nbformat": 4,
 "nbformat_minor": 0
}
